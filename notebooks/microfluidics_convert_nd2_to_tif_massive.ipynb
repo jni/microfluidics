{
 "cells": [
  {
   "cell_type": "markdown",
   "metadata": {},
   "source": [
    "# Split all `.nd2` files from JP's microfluidics project into individual positions (series in nd2) and covert to `.tif`\n",
    "\n",
    "Use dask jobqueue to distribute this across a whole host of SLURM workers.\n",
    "\n",
    "TODO: check whether walltime is long enough...bfconvert seems to be painfully slow"
   ]
  },
  {
   "cell_type": "code",
   "execution_count": 2,
   "metadata": {},
   "outputs": [],
   "source": [
    "import os\n",
    "import glob\n",
    "import sys\n",
    "from dask_jobqueue import SLURMCluster as Cluster\n",
    "from dask import delayed\n",
    "from dask.distributed import Client, as_completed\n",
    "from distributed.scheduler import KilledWorker\n",
    "import subprocess\n",
    "import pathlib"
   ]
  },
  {
   "cell_type": "markdown",
   "metadata": {},
   "source": [
    "# Find all nd2 files in basepath"
   ]
  },
  {
   "cell_type": "code",
   "execution_count": 3,
   "metadata": {},
   "outputs": [],
   "source": [
    "basepath = pathlib.Path(\"/projects/dk49\")"
   ]
  },
  {
   "cell_type": "code",
   "execution_count": 4,
   "metadata": {},
   "outputs": [],
   "source": [
    "nd2files= basepath.rglob(\"*.nd2\")\n",
    "nd2files = list(filter(lambda x: not str(x.stem).startswith(\"._\"), nd2files))"
   ]
  },
  {
   "cell_type": "code",
   "execution_count": 5,
   "metadata": {},
   "outputs": [
    {
     "data": {
      "text/plain": [
       "[PosixPath('/projects/dk49/eggs/2018_Sept_Nov_Boston/2018_10_03_Eggslinkerlengths/20181003 linker lengths.nd2'),\n",
       " PosixPath('/projects/dk49/eggs/2018_Sept_Nov_Boston/2018_10_12_Dayafter11amGrowth/Candida.nd2'),\n",
       " PosixPath('/projects/dk49/eggs/2018_Sept_Nov_Boston/2018_10_12_Dayafter11amGrowth/Staph.nd2'),\n",
       " PosixPath('/projects/dk49/eggs/2018_Sept_Nov_Boston/2018_10_12_Dayafter11amGrowth/Candida_LL37_1000nM.nd2'),\n",
       " PosixPath('/projects/dk49/eggs/2018_Sept_Nov_Boston/2018_10_12_EggsCurve/2018_10_12_EggsCurve.nd2'),\n",
       " PosixPath('/projects/dk49/eggs/2018_Sept_Nov_Boston/2018_10_10_Eggs Linker lenghts/2018_10_10 Linker Lengths001.nd2'),\n",
       " PosixPath('/projects/dk49/eggs/2018_Sept_Nov_Boston/2018_10_15_EggHaD5LL37/2018_10_15_EggHaD5LL37.nd2'),\n",
       " PosixPath('/projects/dk49/eggs/2018_Sept_Nov_Boston/2018_10_11 Swarming tests/2018_11_10 swarming tests.nd2'),\n",
       " PosixPath('/projects/dk49/eggs/2018_Sept_Nov_Boston/2018_09_26 Eggs BioparticlesConjugated/20180926 BioparticlesConjugatedwithacid.nd2'),\n",
       " PosixPath('/projects/dk49/eggs/2018_Sept_Nov_Boston/2018_09_26 Eggs BioparticlesConjugated/20180926 BioparticlesConjugated.nd2'),\n",
       " PosixPath('/projects/dk49/eggs/2018_Sept_Nov_Boston/2018_10_16_EggsBioparticleConjugated/2018_10_16_EggsBioparticleConjugatedwithacid.nd2'),\n",
       " PosixPath('/projects/dk49/eggs/2018_Sept_Nov_Boston/2018_10_16_EggsBioparticleConjugated/2018_10_16_EggsBioparticleConjugated.nd2'),\n",
       " PosixPath('/projects/dk49/eggs/2018_Sept_Nov_Boston/2018_09_28 Eggs Linkerlenghths/20180928 Linkerlenghths.nd2'),\n",
       " PosixPath('/projects/dk49/eggs/2018_Sept_Nov_Boston/2018_10_05 Eggs Linker Lengths/2018_10_05 Linker Lengths.nd2'),\n",
       " PosixPath('/projects/dk49/eggs/2018_MarchtoMay Microfluidics rawdata/20180503 JenEggLinkerCurve.nd2'),\n",
       " PosixPath('/projects/dk49/eggs/2018_MarchtoMay Microfluidics rawdata/20180406 Jen Eggs/20180406 Jen Eggs.nd2'),\n",
       " PosixPath('/projects/dk49/eggs/2018_MarchtoMay Microfluidics rawdata/20180426 JenCurveCompounds/20180426JenCurveCompounds.nd2'),\n",
       " PosixPath('/projects/dk49/eggs/2018_MarchtoMay Microfluidics rawdata/20180501 JenEggLinkerCurve/20180501 JenEggLinkerCurve001.nd2'),\n",
       " PosixPath('/projects/dk49/eggs/2018_MarchtoMay Microfluidics rawdata/20180420 Jen Eggs curve/20180420 Jen Eggs curve.nd2'),\n",
       " PosixPath('/projects/dk49/eggs/2018_MarchtoMay Microfluidics rawdata/20180405 Jen Eggs/20180405 Jen Eggs.nd2'),\n",
       " PosixPath('/projects/dk49/eggs/2018_MarchtoMay Microfluidics rawdata/20180430 JenEggLinkerCurve/20180430 JenEggLinkerCurve.nd2'),\n",
       " PosixPath('/projects/dk49/eggs/2018_MarchtoMay Microfluidics rawdata/20180327 Jen Compounds/20180327 Jen Compounds001.nd2'),\n",
       " PosixPath('/projects/dk49/eggs/2018_MarchtoMay Microfluidics rawdata/20180327 Jen Compounds/20180327 Jen Compounds.nd2'),\n",
       " PosixPath('/projects/dk49/eggs/2018_MarchtoMay Microfluidics rawdata/20180424 Jen Compounds/20180424 Jen Compounds.nd2'),\n",
       " PosixPath('/projects/dk49/eggs/2018_MarchtoMay Microfluidics rawdata/20180427 JenlinkerCompounds/20180427 JenlinkerCompounds002.nd2'),\n",
       " PosixPath('/projects/dk49/eggs/2018_MarchtoMay Microfluidics rawdata/20180427 JenlinkerCompounds/20180427 JenlinkerCompounds.nd2'),\n",
       " PosixPath('/projects/dk49/BostonEggs/2018_10_29_Eggs_BioparticlesLL37A5/2018_10_29_Eggs_BioparticlesLL37A5.nd2'),\n",
       " PosixPath('/projects/dk49/BostonEggs/2018_10_17_EggsStaphConjugated/2018_10_17_EggsStaphConjugated.nd2'),\n",
       " PosixPath('/projects/dk49/BostonEggs/2018_11_1_EggsStaphSrtAHaD5/2018_11_1_EggsStaphSrtAHaD5.nd2'),\n",
       " PosixPath('/projects/dk49/BostonEggs/2018_11_13_EggsBodipy/2018_11_13_EggsBodipy001.nd2'),\n",
       " PosixPath('/projects/dk49/BostonEggs/2018_11_13_EggsBodipy/2018_11_13_EggsBodipy.nd2'),\n",
       " PosixPath('/projects/dk49/BostonEggs/2018_11_13_EggsBodipy/2018_11_13_EggsBodipyacid.nd2'),\n",
       " PosixPath('/projects/dk49/BostonEggs/2018_11_8_Eggs_BodipyPhrodo/2018_11_8_Eggs_BodipyPhrodoacid.nd2'),\n",
       " PosixPath('/projects/dk49/BostonEggs/2018_11_8_Eggs_BodipyPhrodo/2018_11_8_Eggs_BodipyPhrodo.nd2'),\n",
       " PosixPath('/projects/dk49/BostonEggs/2018_11_14_EggsBodipy/2018_11_14_EggsBodipyacid.nd2'),\n",
       " PosixPath('/projects/dk49/BostonEggs/2018_11_14_EggsBodipy/2018_11_14_EggsBodipy.nd2'),\n",
       " PosixPath('/projects/dk49/BostonEggs/2018_10_31_EggsStaphSrtAHaD5/2018_10_31_EggsStaphSrtAHaD5.nd2'),\n",
       " PosixPath('/projects/dk49/BostonEggs/2018_11_7_EggsBodipyPhrodo/2018_11_7_EggsBodipyPhrodoAcid.nd2'),\n",
       " PosixPath('/projects/dk49/BostonEggs/2018_11_7_EggsBodipyPhrodo/2018_11_7_EggsBodipyPhrodo.nd2'),\n",
       " PosixPath('/projects/dk49/BostonEggs/2018_10_24_EggsStaphWashBodipy/2018_10_24_EggsStaphWashBodipy.nd2')]"
      ]
     },
     "execution_count": 5,
     "metadata": {},
     "output_type": "execute_result"
    }
   ],
   "source": [
    "nd2files"
   ]
  },
  {
   "cell_type": "markdown",
   "metadata": {},
   "source": [
    "# define processing functions"
   ]
  },
  {
   "cell_type": "code",
   "execution_count": 6,
   "metadata": {},
   "outputs": [],
   "source": [
    "def generate_output_pattern(nd2path, dest_root=\"/scratch/dk49/\"):\n",
    "    '''given a pathlib path to an nd2 file, returns the outputfolder below\n",
    "    dest_root and the pattern for bfconvert as pathlib objects'''\n",
    "    tmp = pathlib.Path(dest_root).joinpath(*nd2path.parts[3:])\n",
    "    folder = tmp.parent\n",
    "    pattern = str(tmp.stem) + '_s%s.tif'\n",
    "    return (folder, folder / pattern)"
   ]
  },
  {
   "cell_type": "code",
   "execution_count": 7,
   "metadata": {},
   "outputs": [],
   "source": [
    "def process_file(nd2path, bfexe = \"/projects/dk49/bftools/bfconvert\"):\n",
    "    '''given a pathlib object to an nd2 file, creates the output folder and returns the tuple of cmd strings \n",
    "    to split using bfconvert'''\n",
    "    folder, pattern = generate_output_pattern(nd2path)\n",
    "    # generate outputfolder including parents\n",
    "    folder.mkdir(exist_ok=True, parents=True)\n",
    "    cmd = [bfexe, str(nd2path), str(pattern)]\n",
    "    return subprocess.check_output(cmd)"
   ]
  },
  {
   "cell_type": "code",
   "execution_count": null,
   "metadata": {},
   "outputs": [],
   "source": []
  },
  {
   "cell_type": "markdown",
   "metadata": {},
   "source": [
    "# Request Cluster workers using dask and distribute jobs to workers"
   ]
  },
  {
   "cell_type": "code",
   "execution_count": 8,
   "metadata": {},
   "outputs": [],
   "source": [
    "cluster=Cluster(cores=1, memory='16GB', projects='dk49', walltime=\"24:00:00\")\n",
    "cluster.scale(20)"
   ]
  },
  {
   "cell_type": "code",
   "execution_count": 10,
   "metadata": {},
   "outputs": [],
   "source": [
    "client=Client(cluster)\n"
   ]
  },
  {
   "cell_type": "code",
   "execution_count": 12,
   "metadata": {},
   "outputs": [
    {
     "data": {
      "application/vnd.jupyter.widget-view+json": {
       "model_id": "313f4044cdd34925b5abbf51b00126a6",
       "version_major": 2,
       "version_minor": 0
      },
      "text/plain": [
       "VBox(children=(HTML(value='<h2>SLURMCluster</h2>'), HBox(children=(HTML(value='\\n<div>\\n  <style scoped>\\n    …"
      ]
     },
     "metadata": {},
     "output_type": "display_data"
    }
   ],
   "source": [
    "cluster"
   ]
  },
  {
   "cell_type": "code",
   "execution_count": 13,
   "metadata": {},
   "outputs": [
    {
     "ename": "NameError",
     "evalue": "name 'progress' is not defined",
     "output_type": "error",
     "traceback": [
      "\u001b[0;31m---------------------------------------------------------------------------\u001b[0m",
      "\u001b[0;31mNameError\u001b[0m                                 Traceback (most recent call last)",
      "\u001b[0;32m<ipython-input-13-cf0c39e73386>\u001b[0m in \u001b[0;36m<module>\u001b[0;34m()\u001b[0m\n\u001b[1;32m      1\u001b[0m \u001b[0mfutures\u001b[0m \u001b[0;34m=\u001b[0m \u001b[0mclient\u001b[0m\u001b[0;34m.\u001b[0m\u001b[0mmap\u001b[0m\u001b[0;34m(\u001b[0m\u001b[0mprocess_file\u001b[0m\u001b[0;34m,\u001b[0m \u001b[0mnd2files\u001b[0m\u001b[0;34m)\u001b[0m\u001b[0;34m\u001b[0m\u001b[0m\n\u001b[0;32m----> 2\u001b[0;31m \u001b[0mprogress\u001b[0m\u001b[0;34m(\u001b[0m\u001b[0mfutures\u001b[0m\u001b[0;34m)\u001b[0m\u001b[0;34m\u001b[0m\u001b[0m\n\u001b[0m",
      "\u001b[0;31mNameError\u001b[0m: name 'progress' is not defined"
     ]
    }
   ],
   "source": [
    "futures = client.map(process_file, nd2files)\n"
   ]
  },
  {
   "cell_type": "code",
   "execution_count": 14,
   "metadata": {},
   "outputs": [
    {
     "data": {
      "text/plain": [
       "[<Future: status: pending, key: process_file-635a6cf67955139558e24802235bf99a>,\n",
       " <Future: status: pending, key: process_file-bfef5ad990f85efd8c3210790684ed43>,\n",
       " <Future: status: pending, key: process_file-0e0291ab3c666ff4c2da6c6090e64915>,\n",
       " <Future: status: finished, type: bytes, key: process_file-9fa48079f332d10fe74d4a90a66c450a>,\n",
       " <Future: status: pending, key: process_file-96a42523e6f35a501be9afcab25f7ebe>,\n",
       " <Future: status: pending, key: process_file-7b7bb31303e86cc15cbdcb074bcd12e5>,\n",
       " <Future: status: pending, key: process_file-1a21c229fea231162ffa261980c68f16>,\n",
       " <Future: status: pending, key: process_file-e3d3807d8f765f15e77b5f5705adaead>,\n",
       " <Future: status: pending, key: process_file-123e60fcc425a9356c0bed4bd0367bc1>,\n",
       " <Future: status: pending, key: process_file-8e75910fde7e3f368f958e868bae167d>,\n",
       " <Future: status: pending, key: process_file-fb2102c72e1cc11c7cdbb916e1d0d81f>,\n",
       " <Future: status: pending, key: process_file-5fb4cb67b6dfa4da0ef4903dea869918>,\n",
       " <Future: status: pending, key: process_file-9256dc8435b546ca8c9e3a651170093b>,\n",
       " <Future: status: pending, key: process_file-11739b0fb0a31eca75853b9199139d2d>,\n",
       " <Future: status: pending, key: process_file-2be2ed126549ba047c364150df3957d5>,\n",
       " <Future: status: pending, key: process_file-647638d9fbd96a0fa2d5232d0a807b5c>,\n",
       " <Future: status: pending, key: process_file-6ad3d6bcb93f2374f79108c77641ecd1>,\n",
       " <Future: status: pending, key: process_file-aab1279cb9f80dcb0edcba9167a13b22>,\n",
       " <Future: status: pending, key: process_file-6f60798e6dbae5de01c6729054384a31>,\n",
       " <Future: status: pending, key: process_file-d88af6509150d7e493437c16571e883b>,\n",
       " <Future: status: pending, key: process_file-1b3d7a561b7c2dc37b8eade7b804be5b>,\n",
       " <Future: status: pending, key: process_file-cb2f2d379a926a0b4e188a00b16d9efc>,\n",
       " <Future: status: pending, key: process_file-d810eedb7565d3e000dedb08b9279e22>,\n",
       " <Future: status: pending, key: process_file-50372180a787dec975b4fe255da0ad3b>,\n",
       " <Future: status: pending, key: process_file-2c09667a850d2c704d5673a4950a92f0>,\n",
       " <Future: status: pending, key: process_file-e0e0487613adf9b88490010710a187cb>,\n",
       " <Future: status: pending, key: process_file-38b8bcf38d51be25f198784543024f07>,\n",
       " <Future: status: pending, key: process_file-44fc3231f156fc0a66b72205ca566e81>,\n",
       " <Future: status: pending, key: process_file-4b374e572978a8cc9a8a852e3cdc5a87>,\n",
       " <Future: status: pending, key: process_file-53a94fefd67370e8f216e444e8e676c0>,\n",
       " <Future: status: pending, key: process_file-a503011acb73865dba1283fcb803ee68>,\n",
       " <Future: status: pending, key: process_file-f84812743691c2e03b3d7fa52a202ac9>,\n",
       " <Future: status: pending, key: process_file-eb211f1b5f9ba71f84e09245ee4429ea>,\n",
       " <Future: status: pending, key: process_file-9ef5d46d725ab30df66e6558f8b0954d>,\n",
       " <Future: status: pending, key: process_file-92300159f0bc882740aa2c9087f2aece>,\n",
       " <Future: status: pending, key: process_file-5ba02142ded0bfd1b86cfe711d6307a2>,\n",
       " <Future: status: pending, key: process_file-aa585e270e6e0878313e924b559778da>,\n",
       " <Future: status: pending, key: process_file-3444d5d4cb385aa7dbd31bbd2fb22f91>,\n",
       " <Future: status: pending, key: process_file-f93fd2d89e741af959ce66f39f03e4ab>,\n",
       " <Future: status: pending, key: process_file-1f6c519fb870ecf292634de7dce5fbbb>]"
      ]
     },
     "execution_count": 14,
     "metadata": {},
     "output_type": "execute_result"
    }
   ],
   "source": [
    "futures"
   ]
  },
  {
   "cell_type": "code",
   "execution_count": null,
   "metadata": {},
   "outputs": [],
   "source": []
  }
 ],
 "metadata": {
  "kernelspec": {
   "display_name": "Python 3",
   "language": "python",
   "name": "python3"
  },
  "language_info": {
   "codemirror_mode": {
    "name": "ipython",
    "version": 3
   },
   "file_extension": ".py",
   "mimetype": "text/x-python",
   "name": "python",
   "nbconvert_exporter": "python",
   "pygments_lexer": "ipython3",
   "version": "3.6.6"
  }
 },
 "nbformat": 4,
 "nbformat_minor": 2
}
