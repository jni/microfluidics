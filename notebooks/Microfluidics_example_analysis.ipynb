{
 "cells": [
  {
   "cell_type": "code",
   "execution_count": null,
   "metadata": {},
   "outputs": [],
   "source": [
    "import os\n",
    "import numpy as np\n",
    "import pandas as pd\n",
    "from skimage import io\n",
    "from skimage import morphology\n",
    "from skimage.measure import label, regionprops"
   ]
  },
  {
   "cell_type": "markdown",
   "metadata": {},
   "source": [
    "# Microfluidics"
   ]
  },
  {
   "cell_type": "code",
   "execution_count": null,
   "metadata": {},
   "outputs": [],
   "source": [
    "# USER INPUT\n",
    "input_dir = \"path/to/macro/output/directory/\"\"\n",
    "output_dir = \"/where/to/save/csv/files/\"\n",
    "# END OF USER INPUT"
   ]
  },
  {
   "cell_type": "code",
   "execution_count": null,
   "metadata": {},
   "outputs": [],
   "source": [
    "prefix_hough = \"HoughLabels_DriftCorrected_\"\n",
    "prefix_cells = \"SegmentedCells_DriftCorrected_\"\n",
    "prefix_all = \"DriftCorrected_\"\n",
    "ext = \".tif\""
   ]
  },
  {
   "cell_type": "code",
   "execution_count": null,
   "metadata": {},
   "outputs": [],
   "source": [
    "def find_files(input_dir):\n",
    "    all_files = os.listdir(input_dir)\n",
    "    filelist = []\n",
    "    for file in all_files:\n",
    "        if file.startswith(prefix_hough) and file.endswith(ext):\n",
    "            filelist.append(file)\n",
    "    return filelist"
   ]
  },
  {
   "cell_type": "code",
   "execution_count": null,
   "metadata": {},
   "outputs": [],
   "source": [
    "def read_in_files(input_dir, file, prefix_hough, prefix_cells):\n",
    "    filename_hough = os.path.join(input_dir, file)\n",
    "    filename_cells = os.path.join(input_dir, file.replace(prefix_hough, prefix_cells))\n",
    "    hough = io.imread(filename_hough)\n",
    "    cells = io.imread(filename_cells)\n",
    "    return hough, cells"
   ]
  },
  {
   "cell_type": "code",
   "execution_count": null,
   "metadata": {},
   "outputs": [],
   "source": [
    "def create_mask(n, hough, dilate=0, erode=0):\n",
    "    mask = hough == n\n",
    "    disk = morphology.disk(dilate)\n",
    "    mask = morphology.binary_dilation(mask, selem=disk)\n",
    "    mask = morphology.binary_erosion(mask, selem=disk)\n",
    "    return mask"
   ]
  },
  {
   "cell_type": "code",
   "execution_count": null,
   "metadata": {},
   "outputs": [],
   "source": [
    "def count_all_cells(cells, n, title, time_axis=0):\n",
    "    cells = np.moveaxis(cells, time_axis, 0)\n",
    "    cols = ['File', 'Mask_number', 'Frame', 'Number_of_cells']\n",
    "    df = pd.DataFrame(columns=cols)\n",
    "    for i, frame in enumerate(cells):\n",
    "        labelled_cells = label(frame)\n",
    "        content = {'File': title,\n",
    "                   'Mask_number': n + 1,\n",
    "                   'Frame': i,\n",
    "                   'Number_of_cells': np.max(labelled_cells)}\n",
    "        df = df.append(content, ignore_index=True)\n",
    "    return df"
   ]
  },
  {
   "cell_type": "code",
   "execution_count": null,
   "metadata": {},
   "outputs": [],
   "source": [
    "def count_cells(cells, mask, n, title, time_axis=0):\n",
    "    masked_cells = cells * mask\n",
    "    masked_cells = np.moveaxis(masked_cells, time_axis, 0)\n",
    "    # total cell count at frame 0\n",
    "    cells = np.moveaxis(cells, time_axis, 0)\n",
    "    total_initial_cells = np.max(label(cells[0, ...]))\n",
    "    # cells in microfluidic wells over time\n",
    "    cols = ['File', 'Mask_number', 'Frame', 'Number_of_cells', 'Total_initial_number_of_cells']\n",
    "    df = pd.DataFrame(columns=cols)\n",
    "    for i, frame in enumerate(masked_cells):\n",
    "        labelled_cells = label(frame)\n",
    "        content = {'File': title,\n",
    "                   'Mask_number': n,\n",
    "                   'Frame': i,\n",
    "                   'Number_of_cells': np.max(labelled_cells),\n",
    "                   'Total_initial_number_of_cells': total_initial_cells}\n",
    "        df = df.append(content, ignore_index=True)\n",
    "    return df"
   ]
  },
  {
   "cell_type": "code",
   "execution_count": null,
   "metadata": {},
   "outputs": [],
   "source": [
    "def measure_intensity(image, mask, n, title, time_axis=0):\n",
    "    masked_iamge = image * mask\n",
    "    masked_iamge = np.moveaxis(image, time_axis, 0)\n",
    "    cols = ['File', 'Mask_number', 'Frame',\n",
    "            'Green_intensity_mean', 'Green_intensity_stdev', \n",
    "            'Green_intensity_min', 'Green_intensity_max',\n",
    "            'Red_intensity_mean',  'Red_intensity_stdev', \n",
    "            'Red_intensity_min',  'Red_intensity_max']\n",
    "    df = pd.DataFrame(columns=cols)\n",
    "    for i, frame in enumerate(masked_iamge):\n",
    "        red_channel = image[3, ...]\n",
    "        green_channel = image[2, ...]\n",
    "        content = {'File': title,\n",
    "                   'Mask_number': n,\n",
    "                   'Frame': i,\n",
    "                   'Green_intensity_mean': np.mean(green_channel[mask]),\n",
    "                   'Green_intensity_stdev': np.std(green_channel[mask]),\n",
    "                   'Green_intensity_min': np.min(green_channel[mask]),\n",
    "                   'Green_intensity_max': np.max(green_channel[mask]),\n",
    "                   'Red_intensity_mean': np.mean(red_channel[mask]),\n",
    "                   'Red_intensity_stdev': np.std(red_channel[mask]),\n",
    "                   'Red_intensity_min': np.min(red_channel[mask]),\n",
    "                   'Red_intensity_max': np.max(red_channel[mask])}\n",
    "        df = df.append(content, ignore_index=True)\n",
    "    return df"
   ]
  },
  {
   "cell_type": "code",
   "execution_count": null,
   "metadata": {},
   "outputs": [],
   "source": [
    "filelist = find_files(input_dir)\n",
    "output_filename = os.path.join(output_dir, \"JenniferPayne_MicrofluidicAntibiotics.csv\")\n",
    "print(len(filelist))\n",
    "print(output_filename)"
   ]
  },
  {
   "cell_type": "code",
   "execution_count": null,
   "metadata": {},
   "outputs": [],
   "source": [
    "# count cell numbers\n",
    "output_cellnumbers_filename = os.path.join(csv_dir, \"Intensity_JenniferPayne_MicrofluidicAntibiotics.csv\")\n",
    "big_df = pd.DataFrame()\n",
    "for file in filelist:\n",
    "    print(file)\n",
    "    title = file.replace(prefix_hough, \"\")\n",
    "    hough, cells = read_in_files(input_dir, file, prefix_hough, prefix_cells)\n",
    "    n_masks = np.max(hough)\n",
    "    for n in range(n_masks):\n",
    "        print(f\"Mask {n + 1}\")\n",
    "        mask = create_mask(n, hough, dilate=20)\n",
    "        df = count_cells(cells, mask, n, title)\n",
    "        big_df = pd.concat([big_df, df])\n",
    "        # perhaps add a check to see if you're overwriting a file\n",
    "        big_df.to_csv(output_cellnumbers_filename)\n",
    "\n",
    "print(\"Finished!\")"
   ]
  },
  {
   "cell_type": "code",
   "execution_count": null,
   "metadata": {},
   "outputs": [],
   "source": [
    "# measure fluorescence intensity\n",
    "output_fluorescence_filename = os.path.join(csv_dir, \"Intensity_JenniferPayne_MicrofluidicAntibiotics.csv\")\n",
    "big_df = pd.DataFrame()\n",
    "for file in filelist:\n",
    "    print(file)\n",
    "    title = file.replace(prefix_hough, \"\")\n",
    "    hough, image = read_in_files(input_dir, file, prefix_hough, prefix_all)\n",
    "    n_masks = np.max(hough)\n",
    "    for n in range(1, n_masks + 1):\n",
    "        print(f\"Mask {n}\")\n",
    "        mask = create_mask(n, hough, erode=10)\n",
    "        df = measure_intensity(image, mask, n, title)\n",
    "        # write out df?\n",
    "        big_df = pd.concat([big_df, df])\n",
    "        # check if you're overwriting your own file\n",
    "        big_df.to_csv(output_fluorescence_filename)\n",
    "\n",
    "print(\"Finished!\")"
   ]
  },
  {
   "cell_type": "code",
   "execution_count": null,
   "metadata": {},
   "outputs": [],
   "source": []
  },
  {
   "cell_type": "code",
   "execution_count": null,
   "metadata": {},
   "outputs": [],
   "source": []
  },
  {
   "cell_type": "code",
   "execution_count": null,
   "metadata": {},
   "outputs": [],
   "source": []
  },
  {
   "cell_type": "code",
   "execution_count": null,
   "metadata": {},
   "outputs": [],
   "source": []
  }
 ],
 "metadata": {
  "kernelspec": {
   "display_name": "Python 3",
   "language": "python",
   "name": "python3"
  },
  "language_info": {
   "codemirror_mode": {
    "name": "ipython",
    "version": 3
   },
   "file_extension": ".py",
   "mimetype": "text/x-python",
   "name": "python",
   "nbconvert_exporter": "python",
   "pygments_lexer": "ipython3",
   "version": "3.6.5"
  }
 },
 "nbformat": 4,
 "nbformat_minor": 2
}
